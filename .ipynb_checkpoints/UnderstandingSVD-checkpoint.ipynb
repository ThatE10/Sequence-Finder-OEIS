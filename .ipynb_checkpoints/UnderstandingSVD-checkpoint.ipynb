{
 "cells": [
  {
   "cell_type": "code",
   "execution_count": 35,
   "id": "88a99148",
   "metadata": {},
   "outputs": [
    {
     "name": "stdout",
     "output_type": "stream",
     "text": [
      "[1, 0, 0, 0, 0, 0, 0, 0, 0, 0]\n",
      "[0, 1, 0, 0, 0, 0, 0, 0, 0, 0]\n",
      "[0, 0, 1, 0, 0, 0, 0, 0, 0, 0]\n",
      "[0, 0, 0, 1, 0, 0, 0, 0, 0, 0]\n",
      "[0, 0, 0, 0, 1, 0, 0, 0, 0, 0]\n",
      "[0, 0, 0, 0, 0, 1, 0, 0, 0, 0]\n",
      "[0, 0, 0, 0, 0, 0, 1, 0, 0, 0]\n",
      "[0, 0, 0, 0, 0, 0, 0, 1, 0, 0]\n",
      "[0, 0, 0, 0, 0, 0, 0, 0, 1, 0]\n",
      "[0, 0, 0, 0, 0, 0, 0, 0, 0, 1]\n"
     ]
    },
    {
     "data": {
      "text/plain": [
       "True"
      ]
     },
     "execution_count": 35,
     "metadata": {},
     "output_type": "execute_result"
    }
   ],
   "source": [
    "mprint(identityMatrix(10))\n",
    "invalid_matrix = identityMatrix(10)\n",
    "invalid_matrix[0] = []\n",
    "matrixValidator()"
   ]
  },
  {
   "cell_type": "code",
   "execution_count": 65,
   "id": "9db8ef60",
   "metadata": {},
   "outputs": [],
   "source": [
    "def identityMatrix(size):\n",
    "    \n",
    "    cols,rows = (size,size)\n",
    "    if type(size) != int:\n",
    "        raise Exception(\"Expected int but recieved other\")\n",
    "    if size<=0:\n",
    "        raise Exception(\"Matrix unable to less than 0\")\n",
    "    return [ [ (1 if i == j else 0 ) for i in range(rows)] for j in range(cols) ]\n",
    "\n",
    "def newMatrix(rows,cols):\n",
    "    \n",
    "    cols,rows = (rows,cols)\n",
    "    \n",
    "    if type(rows) != int or type(cols) != int:\n",
    "        raise Exception(\"Expected int but recieved other\")\n",
    "    if rows<=0 or cols<=0:\n",
    "        raise Exception(\"Matrix unable to less than 0\")\n",
    "        \n",
    "    return [ [ (0 ) for i in range(rows)] for j in range(cols) ]\n",
    "\n",
    "def mprint(matrix):\n",
    "    for row in matrix:\n",
    "        col=\"\"\n",
    "        for element in row:\n",
    "            col +=str(element)+\" \"\n",
    "        print(col)\n",
    "\n",
    "def matrixMulitplication(matrix1,matrix2):\n",
    "    \n",
    "    matrix1_size = (len(matrix1),len(matrix1[0]))\n",
    "    matrix2_size = (len(matrix2),len(matrix2[0]))\n",
    "    \n",
    "    if matrix1_size[1] != matrix1_size[0]:\n",
    "        raise Exception(\"Matrices cannot multiple together!\")\n",
    "    \n",
    "    new_matrix = newMatrix(len(matrix1),len(matrix2[0]))\n",
    "    \n",
    "    row_num = 0\n",
    "    col_num = 0\n",
    "    \n",
    "    for row_matrix2 in matrix2:\n",
    "        \n",
    "        for col_element in row_matrix2:\n",
    "            \n",
    "            \n",
    "            for row_matrix1 in matrix1:\n",
    "                mprint(new_matrix)\n",
    "                print(col_num,row_num)\n",
    "                print()\n",
    "                \n",
    "                new_matrix[row_num][col_num] = row_matrix1[col_num]*col_element\n",
    "                \n",
    "            col_num+=1\n",
    "        row_num+=1\n",
    "            \n",
    "    return new_matrix\n",
    "    \n",
    "    \n",
    "    \n",
    "def matrixValidator(matrix):\n",
    "    col_len = len(matrix)\n",
    "    for row in matrix:\n",
    "        if col_len != len(row):\n",
    "            return False\n",
    "    return True\n",
    "\n"
   ]
  },
  {
   "cell_type": "code",
   "execution_count": 49,
   "id": "3f2e0b4c",
   "metadata": {},
   "outputs": [
    {
     "data": {
      "text/plain": [
       "'\\n2x3\\n2rows\\n3columns\\n# # #\\n# # #\\n'"
      ]
     },
     "execution_count": 49,
     "metadata": {},
     "output_type": "execute_result"
    }
   ],
   "source": [
    "'''\n",
    "2x3\n",
    "2rows\n",
    "3columns\n",
    "# # #\n",
    "# # #\n",
    "'''"
   ]
  },
  {
   "cell_type": "code",
   "execution_count": 66,
   "id": "905a8e8c",
   "metadata": {},
   "outputs": [
    {
     "name": "stdout",
     "output_type": "stream",
     "text": [
      "0 0 \n",
      "0 0 \n",
      "0 0\n",
      "\n",
      "0 0 \n",
      "0 0 \n",
      "0 0\n",
      "\n",
      "0 0 \n",
      "0 0 \n",
      "1 0\n",
      "\n",
      "0 0 \n",
      "0 0 \n",
      "1 0\n",
      "\n",
      "0 0 \n",
      "0 0 \n",
      "2 1\n",
      "\n"
     ]
    },
    {
     "ename": "IndexError",
     "evalue": "list index out of range",
     "output_type": "error",
     "traceback": [
      "\u001b[1;31m---------------------------------------------------------------------------\u001b[0m",
      "\u001b[1;31mIndexError\u001b[0m                                Traceback (most recent call last)",
      "\u001b[1;32m~\\AppData\\Local\\Temp\\ipykernel_14352\\1893712263.py\u001b[0m in \u001b[0;36m<module>\u001b[1;34m\u001b[0m\n\u001b[1;32m----> 1\u001b[1;33m \u001b[0mmprint\u001b[0m\u001b[1;33m(\u001b[0m\u001b[0mmatrixMulitplication\u001b[0m\u001b[1;33m(\u001b[0m\u001b[0mnewMatrix\u001b[0m\u001b[1;33m(\u001b[0m\u001b[1;36m2\u001b[0m\u001b[1;33m,\u001b[0m\u001b[1;36m2\u001b[0m\u001b[1;33m)\u001b[0m\u001b[1;33m,\u001b[0m\u001b[0mnewMatrix\u001b[0m\u001b[1;33m(\u001b[0m\u001b[1;36m2\u001b[0m\u001b[1;33m,\u001b[0m\u001b[1;36m2\u001b[0m\u001b[1;33m)\u001b[0m\u001b[1;33m)\u001b[0m\u001b[1;33m)\u001b[0m\u001b[1;33m\u001b[0m\u001b[1;33m\u001b[0m\u001b[0m\n\u001b[0m",
      "\u001b[1;32m~\\AppData\\Local\\Temp\\ipykernel_14352\\861292721.py\u001b[0m in \u001b[0;36mmatrixMulitplication\u001b[1;34m(matrix1, matrix2)\u001b[0m\n\u001b[0;32m     49\u001b[0m                 \u001b[0mprint\u001b[0m\u001b[1;33m(\u001b[0m\u001b[1;33m)\u001b[0m\u001b[1;33m\u001b[0m\u001b[1;33m\u001b[0m\u001b[0m\n\u001b[0;32m     50\u001b[0m \u001b[1;33m\u001b[0m\u001b[0m\n\u001b[1;32m---> 51\u001b[1;33m                 \u001b[0mnew_matrix\u001b[0m\u001b[1;33m[\u001b[0m\u001b[0mrow_num\u001b[0m\u001b[1;33m]\u001b[0m\u001b[1;33m[\u001b[0m\u001b[0mcol_num\u001b[0m\u001b[1;33m]\u001b[0m \u001b[1;33m=\u001b[0m \u001b[0mrow_matrix1\u001b[0m\u001b[1;33m[\u001b[0m\u001b[0mcol_num\u001b[0m\u001b[1;33m]\u001b[0m\u001b[1;33m*\u001b[0m\u001b[0mcol_element\u001b[0m\u001b[1;33m\u001b[0m\u001b[1;33m\u001b[0m\u001b[0m\n\u001b[0m\u001b[0;32m     52\u001b[0m \u001b[1;33m\u001b[0m\u001b[0m\n\u001b[0;32m     53\u001b[0m             \u001b[0mcol_num\u001b[0m\u001b[1;33m+=\u001b[0m\u001b[1;36m1\u001b[0m\u001b[1;33m\u001b[0m\u001b[1;33m\u001b[0m\u001b[0m\n",
      "\u001b[1;31mIndexError\u001b[0m: list index out of range"
     ]
    }
   ],
   "source": [
    "mprint(matrixMulitplication(newMatrix(2,2),newMatrix(2,2)))"
   ]
  },
  {
   "cell_type": "code",
   "execution_count": null,
   "id": "cfc9e4b7",
   "metadata": {},
   "outputs": [],
   "source": []
  }
 ],
 "metadata": {
  "kernelspec": {
   "display_name": "Python 3 (ipykernel)",
   "language": "python",
   "name": "python3"
  },
  "language_info": {
   "codemirror_mode": {
    "name": "ipython",
    "version": 3
   },
   "file_extension": ".py",
   "mimetype": "text/x-python",
   "name": "python",
   "nbconvert_exporter": "python",
   "pygments_lexer": "ipython3",
   "version": "3.9.13"
  }
 },
 "nbformat": 4,
 "nbformat_minor": 5
}
