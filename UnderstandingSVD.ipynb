{
 "cells": [
  {
   "cell_type": "code",
   "execution_count": 35,
   "id": "54b32543",
   "metadata": {},
   "outputs": [
    {
     "name": "stdout",
     "output_type": "stream",
     "text": [
      "[1, 0, 0, 0, 0, 0, 0, 0, 0, 0]\n",
      "[0, 1, 0, 0, 0, 0, 0, 0, 0, 0]\n",
      "[0, 0, 1, 0, 0, 0, 0, 0, 0, 0]\n",
      "[0, 0, 0, 1, 0, 0, 0, 0, 0, 0]\n",
      "[0, 0, 0, 0, 1, 0, 0, 0, 0, 0]\n",
      "[0, 0, 0, 0, 0, 1, 0, 0, 0, 0]\n",
      "[0, 0, 0, 0, 0, 0, 1, 0, 0, 0]\n",
      "[0, 0, 0, 0, 0, 0, 0, 1, 0, 0]\n",
      "[0, 0, 0, 0, 0, 0, 0, 0, 1, 0]\n",
      "[0, 0, 0, 0, 0, 0, 0, 0, 0, 1]\n"
     ]
    },
    {
     "data": {
      "text/plain": [
       "True"
      ]
     },
     "execution_count": 35,
     "metadata": {},
     "output_type": "execute_result"
    }
   ],
   "source": [
    "mprint(identityMatrix(10))\n",
    "invalid_matrix = identityMatrix(10)\n",
    "invalid_matrix[0] = []\n",
    "matrixValidator()"
   ]
  },
  {
   "cell_type": "code",
   "execution_count": 112,
   "id": "12ea6ae9",
   "metadata": {},
   "outputs": [],
   "source": [
    "def identityMatrix(size):\n",
    "    \n",
    "    cols,rows = (size,size)\n",
    "    if type(size) != int:\n",
    "        raise Exception(\"Expected int but recieved other\")\n",
    "    if size<=0:\n",
    "        raise Exception(\"Matrix unable to less than 0\")\n",
    "    return [ [ (1 if i == j else 0 ) for i in range(rows)] for j in range(cols) ]\n",
    "\n",
    "def newMatrix(rows,cols):\n",
    "    \n",
    "    cols,rows = (rows,cols)\n",
    "    \n",
    "    if type(rows) != int or type(cols) != int:\n",
    "        raise Exception(\"Expected int but recieved other\")\n",
    "    if rows<=0 or cols<=0:\n",
    "        raise Exception(\"Matrix unable to less than 0\")\n",
    "        \n",
    "    return [ [ (0 ) for i in range(rows)] for j in range(cols) ]\n",
    "\n",
    "def mprint(matrix):\n",
    "    for row in matrix:\n",
    "        col=\"\"\n",
    "        for element in row:\n",
    "            col +=str(element)+\" \"\n",
    "        print(col)\n",
    "\n",
    "def matrixMulitplication(matrix1,matrix2):\n",
    "    \n",
    "    matrix1_size = (len(matrix1),len(matrix1[0]))\n",
    "    matrix2_size = (len(matrix2),len(matrix2[0]))\n",
    "    \n",
    "    if matrix1_size[1] != matrix1_size[0]:\n",
    "        raise Exception(\"Matrices cannot multiple together!\")\n",
    "    \n",
    "    new_matrix = newMatrix(len(matrix1),len(matrix2[0]))\n",
    "    \n",
    "    row_num = 0\n",
    "    col_num = 0\n",
    "    \n",
    "    for row_matrix2 in matrix2:\n",
    "        col_num=0\n",
    "        for col_element_matrix2 in row_matrix2:\n",
    "            row_num_matrix1=0\n",
    "            for row_matrix1 in matrix1:\n",
    "                \n",
    "                new_matrix[row_num_matrix1][col_num]+=row_matrix1[row_num]*col_element_matrix2\n",
    "                \n",
    "                row_num_matrix1+=1\n",
    "                \n",
    "                \n",
    "                \n",
    "            col_num+=1\n",
    "        row_num+=1\n",
    "            \n",
    "    return new_matrix\n",
    "    \n",
    "    \n",
    "    \n",
    "def matrixValidator(matrix):\n",
    "    col_len = len(matrix)\n",
    "    for row in matrix:\n",
    "        if col_len != len(row):\n",
    "            return False\n",
    "    return True\n",
    "            \n",
    "        \n",
    "        \n",
    "\n",
    "def gaussian_elimination(matrix,advanced_independence=False):\n",
    "    pass         "
   ]
  },
  {
   "cell_type": "code",
   "execution_count": 91,
   "id": "0781b30c",
   "metadata": {},
   "outputs": [
    {
     "data": {
      "text/plain": [
       "'\\n2x3\\n2rows\\n3columns\\n# # #\\n# # #\\n'"
      ]
     },
     "execution_count": 91,
     "metadata": {},
     "output_type": "execute_result"
    }
   ],
   "source": [
    "'''\n",
    "2x3\n",
    "2rows\n",
    "3columns\n",
    "# # #\n",
    "# # #\n",
    "'''"
   ]
  },
  {
   "cell_type": "code",
   "execution_count": 98,
   "id": "e52a9883",
   "metadata": {},
   "outputs": [
    {
     "name": "stdout",
     "output_type": "stream",
     "text": [
      "2 3 \n",
      "3 2 \n"
     ]
    }
   ],
   "source": [
    "mprint(matrixMulitplication([[2,3],[3,2]],identityMatrix(2)))"
   ]
  },
  {
   "cell_type": "code",
   "execution_count": 106,
   "id": "7cd48169",
   "metadata": {},
   "outputs": [
    {
     "data": {
      "text/plain": [
       "2"
      ]
     },
     "execution_count": 106,
     "metadata": {},
     "output_type": "execute_result"
    }
   ],
   "source": [
    "range(0,len([1,2,3,5,6,8])-1)[2]"
   ]
  },
  {
   "cell_type": "code",
   "execution_count": 289,
   "id": "471e6983",
   "metadata": {},
   "outputs": [],
   "source": [
    "def cmp(a, b):\n",
    "    return (a > b) - (a < b) \n",
    "\n",
    "\n",
    "def isIndependentVectors(v1,v2):\n",
    "    if len(v1) != len(v2):\n",
    "        raise Exception(\"Vectors are not the same length!\")\n",
    "    if len(v1)==0:\n",
    "        raise Exception(\"Invalid Length for vector!\")    \n",
    "    #This should be changed to find the first non-zero entries to ensure safety!\n",
    "    key = cmp(v1[0],v2[0])\n",
    "    try:\n",
    "        for i in range(0,len(v1)):\n",
    "            temp_key = cmp(v1[i],v2[i])\n",
    "\n",
    "            if (key == temp_key * (-1 if v1[i]<0 and v2[i]<0 else 1) if temp_key or v1[i]!=0 and v2[i]!=0 else True):\n",
    "                pass\n",
    "            else:\n",
    "                raise Independent\n",
    "                \n",
    "    except Independent:\n",
    "        return True\n",
    "    return False\n",
    "\n",
    "    '''\n",
    "    negative_multiplier = 1\n",
    "    output = False\n",
    "\n",
    "    if v1[0]<0 and v2[0]<0:\n",
    "        negative_multiplier=-1\n",
    "\n",
    "    output key == temp_key*negative_multiplier\n",
    "\n",
    "    #this is false when v1 & v2 are equal to eachother AND v1 & v2 equal to 0\n",
    "\n",
    "    if temp_key or v1[0]!=0 and v2[0]!=0:\n",
    "        return output\n",
    "    else:\n",
    "        return True\n",
    "\n",
    "    '''"
   ]
  },
  {
   "cell_type": "code",
   "execution_count": 291,
   "id": "c98a22d4",
   "metadata": {},
   "outputs": [],
   "source": [
    "v1=[1,0,-2,1,0,-2,1,0,-2,1,0,-2,1,0,-2,1,0,-2,1,0,-2,1,0,-2,1,0,-2,1,0,-2,1,0,-2,1,0,-2,1,0,-2,1,0,-2]\n",
    "v2=[2,0,-4,2,0,-4,2,0,-4,2,0,-4,2,0,-4,2,0,-4,2,0,-4,2,0,-4,2,0,-4,2,0,-4,2,0,-4,2,0,-4,2,0,-4,2,0,-4]"
   ]
  },
  {
   "cell_type": "code",
   "execution_count": 290,
   "id": "e95ff36c",
   "metadata": {},
   "outputs": [
    {
     "name": "stdout",
     "output_type": "stream",
     "text": [
      "[1, 0, -2, 1, 0, -2, 1, 0, -2, 1, 0, -2, 1, 0, -2, 1, 0, -2, 1, 0, -2, 1, 0, -2, 1, 0, -2, 1, 0, -2, 1, 0, -2, 1, 0, -2, 1, 0, -2, 1, 0, -2] [2, 0, -4, 2, 0, -4, 2, 0, -4, 2, 0, -4, 2, 0, -4, 2, 0, -4, 2, 0, -4, 2, 0, -4, 2, 0, -4, 2, 0, -4, 2, 0, -4, 2, 0, -4, 2, 0, -4, 2, 0, -4] Are dependent\n"
     ]
    }
   ],
   "source": [
    "if (isIndependentVectors(v1,v2)):\n",
    "    print(v1,v2,\"Are independent\")\n",
    "else:\n",
    "    print(v1,v2,\"Are dependent\")"
   ]
  },
  {
   "cell_type": "code",
   "execution_count": 1,
   "id": "f6ab71a6",
   "metadata": {},
   "outputs": [
    {
     "name": "stdout",
     "output_type": "stream",
     "text": [
      "True\n"
     ]
    }
   ],
   "source": [
    "if 1:\n",
    "    print(True)"
   ]
  },
  {
   "cell_type": "code",
   "execution_count": 2,
   "id": "f7734944",
   "metadata": {},
   "outputs": [
    {
     "ename": "IndentationError",
     "evalue": "expected an indented block (1902268961.py, line 6)",
     "output_type": "error",
     "traceback": [
      "\u001b[1;36m  File \u001b[1;32m\"C:\\Users\\Ethan\\AppData\\Local\\Temp\\ipykernel_9204\\1902268961.py\"\u001b[1;36m, line \u001b[1;32m6\u001b[0m\n\u001b[1;33m    return (m1,m2)\u001b[0m\n\u001b[1;37m    ^\u001b[0m\n\u001b[1;31mIndentationError\u001b[0m\u001b[1;31m:\u001b[0m expected an indented block\n"
     ]
    }
   ],
   "source": [
    "def matrix_factoriser():\n",
    "    \n",
    "    \n",
    "\n",
    "\n",
    "    return (m1,m2)"
   ]
  },
  {
   "cell_type": "code",
   "execution_count": 173,
   "id": "3ba6bfd1",
   "metadata": {},
   "outputs": [],
   "source": [
    "import math \n",
    "  \n",
    "\n",
    "def prime_factoriser(n,list=[],isPrime_solver=False):\n",
    "    \n",
    "    for i in range(2,math.floor(math.sqrt(n))+1):\n",
    "        if len(prime_factoriser(i,[],True)) == 1:\n",
    "            if (n/i).is_integer():\n",
    "                list.append(i)\n",
    "                \n",
    "                #print('Recursion',n,[],isPrime_solver)\n",
    "                \n",
    "                if isPrime_solver:\n",
    "                    \n",
    "                    #print('going back')\n",
    "                    #this line is a bit abitrary but it triggers only if it is\n",
    "                    #in prime solver mode, it sends [0,0] back because it has \"factors\"\n",
    "                    #this might be able to be replaced with prime_factoriser(i,[],True) == i\n",
    "                    #but i'll check later\n",
    "                    return([0,0])\n",
    "                    \n",
    "                \n",
    "                return prime_factoriser(n/i,list)\n",
    "    \n",
    "    list.append(math.floor(n))\n",
    "    return list"
   ]
  },
  {
   "cell_type": "code",
   "execution_count": 174,
   "id": "ec6eadad",
   "metadata": {},
   "outputs": [
    {
     "data": {
      "text/plain": [
       "[2, 2, 3, 3, 3, 3, 5, 13]"
      ]
     },
     "execution_count": 174,
     "metadata": {},
     "output_type": "execute_result"
    }
   ],
   "source": [
    "prime_factoriser(21059+1,[])"
   ]
  },
  {
   "cell_type": "code",
   "execution_count": 185,
   "id": "35f11ed9",
   "metadata": {},
   "outputs": [],
   "source": [
    "import random\n",
    "for i in range(0,1000):\n",
    "    n = random.randint(1, 1000000)\n",
    "    isPrime = True\n",
    "    g=1\n",
    "    primes = prime_factoriser(n,[])\n",
    "    for p in primes:\n",
    "        if not prime_factoriser(p,[],True)[0] == p:\n",
    "            print(False)\n",
    "        g*=p\n",
    "    if not (n == g):\n",
    "        print(\"something wrong uh oh\")\n",
    "        print(n)\n",
    "        print(g)\n",
    "        print(primes)"
   ]
  },
  {
   "cell_type": "code",
   "execution_count": 176,
   "id": "238ca255",
   "metadata": {},
   "outputs": [
    {
     "data": {
      "text/plain": [
       "[0, 0]"
      ]
     },
     "execution_count": 176,
     "metadata": {},
     "output_type": "execute_result"
    }
   ],
   "source": [
    "prime_factoriser(4,[],True)"
   ]
  },
  {
   "cell_type": "code",
   "execution_count": 88,
   "id": "b6ce0b37",
   "metadata": {},
   "outputs": [
    {
     "data": {
      "text/plain": [
       "43.0"
      ]
     },
     "execution_count": 88,
     "metadata": {},
     "output_type": "execute_result"
    }
   ],
   "source": [
    "344/8"
   ]
  },
  {
   "cell_type": "code",
   "execution_count": null,
   "id": "c5d26fef",
   "metadata": {},
   "outputs": [],
   "source": [
    "43"
   ]
  }
 ],
 "metadata": {
  "kernelspec": {
   "display_name": "Python 3 (ipykernel)",
   "language": "python",
   "name": "python3"
  },
  "language_info": {
   "codemirror_mode": {
    "name": "ipython",
    "version": 3
   },
   "file_extension": ".py",
   "mimetype": "text/x-python",
   "name": "python",
   "nbconvert_exporter": "python",
   "pygments_lexer": "ipython3",
   "version": "3.9.13"
  }
 },
 "nbformat": 4,
 "nbformat_minor": 5
}
