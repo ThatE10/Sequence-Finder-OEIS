{
 "cells": [
  {
   "cell_type": "code",
   "execution_count": 7,
   "id": "294feacc",
   "metadata": {},
   "outputs": [
    {
     "name": "stdout",
     "output_type": "stream",
     "text": [
      "1 0 0 0 0 0 0 0 0 0 \n",
      "0 1 0 0 0 0 0 0 0 0 \n",
      "0 0 1 0 0 0 0 0 0 0 \n",
      "0 0 0 1 0 0 0 0 0 0 \n",
      "0 0 0 0 1 0 0 0 0 0 \n",
      "0 0 0 0 0 1 0 0 0 0 \n",
      "0 0 0 0 0 0 1 0 0 0 \n",
      "0 0 0 0 0 0 0 1 0 0 \n",
      "0 0 0 0 0 0 0 0 1 0 \n",
      "0 0 0 0 0 0 0 0 0 1 \n"
     ]
    }
   ],
   "source": [
    "\n",
    "mprint(identityMatrix(10))\n",
    "invalid_matrix = identityMatrix(10)\n",
    "invalid_matrix[0] = []"
   ]
  },
  {
   "cell_type": "code",
   "execution_count": 89,
   "id": "45d74e7d",
   "metadata": {},
   "outputs": [],
   "source": [
    "import math \n",
    "\n",
    "def identityMatrix(size):\n",
    "    \n",
    "    cols,rows = (size,size)\n",
    "    if type(size) != int:\n",
    "        raise Exception(\"Expected int but recieved other\")\n",
    "    if size<=0:\n",
    "        raise Exception(\"Matrix unable to less than 0\")\n",
    "    return [ [ (1 if i == j else 0 ) for i in range(rows)] for j in range(cols) ]\n",
    "\n",
    "def newMatrix(rows,cols):\n",
    "    \n",
    "    cols,rows = (rows,cols)\n",
    "    \n",
    "    if type(rows) != int or type(cols) != int:\n",
    "        raise Exception(\"Expected int but recieved other\")\n",
    "    if rows<=0 or cols<=0:\n",
    "        raise Exception(\"Matrix unable to less than 0\")\n",
    "        \n",
    "    return [ [ (0 ) for i in range(rows)] for j in range(cols) ]\n",
    "\n",
    "def mprint(matrix):\n",
    "    for row in matrix:\n",
    "        col=\"\"\n",
    "        for element in row:\n",
    "            col +=str(element)+\" \"\n",
    "        print(col)\n",
    "\n",
    "def matrixMulitplication(matrix1,matrix2):\n",
    "    \n",
    "    matrix1_size = (len(matrix1),len(matrix1[0]))\n",
    "    matrix2_size = (len(matrix2),len(matrix2[0]))\n",
    "    \n",
    "    \n",
    "    if matrix1_size[1] != matrix2_size[0]:\n",
    "        raise Exception(\"Matrices cannot multiple together!\")\n",
    "    \n",
    "    new_matrix = newMatrix(len(matrix1),len(matrix2[0]))\n",
    "    \n",
    "    row_num = 0\n",
    "    col_num = 0\n",
    "    \n",
    "    for row_matrix2 in matrix2:\n",
    "        col_num=0\n",
    "        for col_element_matrix2 in row_matrix2:\n",
    "            row_num_matrix1=0\n",
    "            for row_matrix1 in matrix1:\n",
    "                \n",
    "                new_matrix[row_num_matrix1][col_num]+=row_matrix1[row_num]*col_element_matrix2\n",
    "                \n",
    "                row_num_matrix1+=1\n",
    "                \n",
    "                \n",
    "                \n",
    "            col_num+=1\n",
    "        row_num+=1\n",
    "            \n",
    "    return new_matrix\n",
    "    \n",
    "    \n",
    "    \n",
    "def matrixValidator(matrix):\n",
    "    col_len = len(matrix)\n",
    "    for row in matrix:\n",
    "        if col_len != len(row):\n",
    "            return False\n",
    "    return True\n",
    "            \n",
    "        \n",
    "        \n",
    "\n",
    "def gaussian_elimination(matrix,advanced_independence=False):\n",
    "    pass\n",
    "import math \n",
    "  \n",
    "\n",
    "def prime_factoriser(n,list=[],isPrime_solver=False):\n",
    "    \n",
    "    for i in range(2,math.floor(math.sqrt(n))+1):\n",
    "        if len(prime_factoriser(i,[],True)) == 1:\n",
    "            if (n/i).is_integer():\n",
    "                list.append(i)\n",
    "                \n",
    "                #print('Recursion',n,[],isPrime_solver)\n",
    "                \n",
    "                if isPrime_solver:\n",
    "                    \n",
    "                    #print('going back')\n",
    "                    #this line is a bit abitrary but it triggers only if it is\n",
    "                    #in prime solver mode, it sends [0,0] back because it has \"factors\"\n",
    "                    #this might be able to be replaced with prime_factoriser(i,[],True) == i\n",
    "                    #but i'll check later\n",
    "                    return([0,0])\n",
    "                    \n",
    "                \n",
    "                return prime_factoriser(n/i,list)\n",
    "    \n",
    "    list.append(math.floor(n))\n",
    "    return list\n",
    "def intersection(lst1, lst2):\n",
    "    return list(set(lst1) & set(lst2))\n",
    "def create_zero_vector_with_unique_element(element,index,length):\n",
    "    v1 = []\n",
    "    for i in range(0,length):\n",
    "        if i == index:\n",
    "            v1.append(element)\n",
    "        else:\n",
    "            v1.append(0)\n",
    "    return v1\n",
    "def transpose(m1):\n",
    "    matrix = []\n",
    "    for col_element_index in range(len(m1[0])):\n",
    "        new_matrix_row=[]\n",
    "        for row in m1:\n",
    "            new_matrix_row.append(row[col_element_index])\n",
    "        matrix.append(new_matrix_row)\n",
    "            \n",
    "    \n",
    "    return matrix"
   ]
  },
  {
   "cell_type": "code",
   "execution_count": 90,
   "id": "c7453f39",
   "metadata": {},
   "outputs": [],
   "source": [
    "def matrix_prime_factorisation(m1):\n",
    "    new_matrix1=[]\n",
    "    new_matrix2=[]\n",
    "    for col_element_index in range(len(m1[0])):\n",
    "        #intialise the primes with first element to than compare and compare and compare which saves time\n",
    "        column_primes = prime_factoriser(m1[0][col_element_index],[])\n",
    "        for row in m1:\n",
    "            column_primes = intersection(column_primes,prime_factoriser(row[col_element_index],[]))\n",
    "        \n",
    "        #calculate the Gcf\n",
    "        gcf = 1\n",
    "        for p in column_primes:\n",
    "            gcf*=p\n",
    "        \n",
    "        new_matrix2.append( create_zero_vector_with_unique_element(gcf,col_element_index,len(m1[0])) )\n",
    "        new_matrix1_row=[]\n",
    "        \n",
    "        for row in m1:\n",
    "            new_matrix1_row.append(row[col_element_index]//gcf)\n",
    "        \n",
    "        new_matrix1.append(new_matrix1_row)\n",
    "    \n",
    "    new_matrix1= transpose(new_matrix1)\n",
    "    return(new_matrix1,new_matrix2)"
   ]
  },
  {
   "cell_type": "code",
   "execution_count": 75,
   "id": "f7da59ab",
   "metadata": {},
   "outputs": [
    {
     "name": "stdout",
     "output_type": "stream",
     "text": [
      "1 1 \n",
      "2 200 \n",
      "4 3 \n",
      "\n",
      "2 0 \n",
      "0 1 \n",
      "\n",
      "2 1 \n",
      "4 200 \n",
      "8 3 \n",
      "\n",
      "2 1 \n",
      "4 200 \n",
      "8 3 \n"
     ]
    }
   ],
   "source": []
  },
  {
   "cell_type": "code",
   "execution_count": 61,
   "id": "8b910bf4",
   "metadata": {},
   "outputs": [
    {
     "name": "stdout",
     "output_type": "stream",
     "text": [
      "1 2 \n",
      "3 4 \n",
      "\n",
      "1 3 0 \n",
      "2 4 3 \n"
     ]
    }
   ],
   "source": []
  },
  {
   "cell_type": "code",
   "execution_count": 81,
   "id": "da5581a5",
   "metadata": {},
   "outputs": [],
   "source": [
    "def prime_factoriser(n,list=[],isPrime_solver=False):\n",
    "    \n",
    "    for i in range(2,math.floor(math.sqrt(n))+1):\n",
    "        if prime_factoriser(i,[],True)[0] == i:\n",
    "            if (n/i).is_integer():\n",
    "                list.append(i)\n",
    "                \n",
    "                #print('Recursion',n,[],isPrime_solver)\n",
    "                \n",
    "                if isPrime_solver:\n",
    "                    \n",
    "                    #print('going back')\n",
    "                    #this line is a bit abitrary but it triggers only if it is\n",
    "                    #in prime solver mode, it sends [0,0] back because it has \"factors\"\n",
    "                    #this might be able to be replaced with prime_factoriser(i,[],True) == i\n",
    "                    #but i'll check later\n",
    "                    return([0])\n",
    "                    \n",
    "                \n",
    "                return prime_factoriser(n/i,list)\n",
    "    \n",
    "    list.append(math.floor(n))\n",
    "    return list"
   ]
  },
  {
   "cell_type": "code",
   "execution_count": 82,
   "id": "f4735e83",
   "metadata": {},
   "outputs": [
    {
     "data": {
      "text/plain": [
       "[2]"
      ]
     },
     "execution_count": 82,
     "metadata": {},
     "output_type": "execute_result"
    }
   ],
   "source": [
    "prime_factoriser(2,[],isPrime_solver=False)\n"
   ]
  },
  {
   "cell_type": "code",
   "execution_count": 91,
   "id": "8bbb0341",
   "metadata": {},
   "outputs": [
    {
     "name": "stdout",
     "output_type": "stream",
     "text": [
      "[2, 2, 2, 2, 2, 2, 2, 2, 2, 2, 2, 2, 2, 2, 2, 2, 2, 2, 2, 2, 2, 2, 2, 2, 2, 2, 2, 2, 2, 2, 2, 2, 2, 2, 2, 2, 2, 2, 2, 2, 2, 2, 2, 2, 2, 3, 5, 11, 21013, 1924920887]\n",
      "[2, 2, 2, 2, 2, 2, 2, 2, 2, 2, 2, 2, 2, 2, 2, 2, 2, 2, 2, 2, 2, 2, 2, 2, 2, 2, 2, 2, 2, 2, 2, 2, 2, 2, 2, 2, 2, 2, 2, 2, 2, 2, 2, 2, 2, 3, 5, 11, 21013, 1924920887]\n",
      "[2, 2, 2, 2, 2, 2, 2, 2, 2, 2, 2, 2, 2, 2, 2, 2, 2, 2, 2, 2, 2, 2, 2, 2, 2, 2, 2, 2, 2, 2, 2, 2, 2, 2, 2, 2, 2, 2, 2, 2, 2, 2, 2, 2, 2, 3, 5, 11, 21013, 1924920887]\n",
      "[2, 2, 2, 2, 2, 2, 2, 2, 2, 2, 2, 2, 2, 2, 2, 2, 2, 2, 2, 2, 2, 2, 2, 2, 2, 2, 2, 2, 2, 2, 2, 2, 2, 2, 2, 2, 2, 2, 2, 2, 2, 2, 2, 2, 2, 3, 5, 11, 21013, 1924920887]\n",
      "[2, 2, 2, 2, 2, 2, 2, 2, 2, 2, 2, 2, 2, 2, 2, 2, 2, 2, 2, 2, 2, 2, 2, 2, 2, 2, 2, 2, 2, 2, 2, 2, 2, 2, 2, 2, 2, 2, 2, 2, 2, 2, 2, 2, 2, 3, 5, 11, 21013, 1924920887]\n",
      "[2, 2, 2, 2, 2, 2, 2, 2, 2, 2, 2, 2, 2, 2, 2, 2, 2, 2, 2, 2, 2, 2, 2, 2, 2, 2, 2, 2, 2, 2, 2, 2, 2, 2, 2, 2, 2, 2, 2, 2, 2, 2, 2, 2, 2, 3, 5, 11, 21013, 1924920887]\n",
      "[2, 2, 2, 2, 2, 2, 2, 2, 2, 2, 2, 2, 2, 2, 2, 2, 2, 2, 2, 2, 2, 2, 2, 2, 2, 2, 2, 2, 2, 2, 2, 2, 2, 2, 2, 2, 2, 2, 2, 2, 2, 2, 2, 2, 2, 3, 5, 11, 21013, 1924920887]\n",
      "[2, 2, 2, 2, 2, 2, 2, 2, 2, 2, 2, 2, 2, 2, 2, 2, 2, 2, 2, 2, 2, 2, 2, 2, 2, 2, 2, 2, 2, 2, 2, 2, 2, 2, 2, 2, 2, 2, 2, 2, 2, 2, 2, 2, 2, 3, 5, 11, 21013, 1924920887]\n",
      "[2, 2, 2, 2, 2, 2, 2, 2, 2, 2, 2, 2, 2, 2, 2, 2, 2, 2, 2, 2, 2, 2, 2, 2, 2, 2, 2, 2, 2, 2, 2, 2, 2, 2, 2, 2, 2, 2, 2, 2, 2, 2, 2, 2, 2, 3, 5, 11, 21013, 1924920887]\n",
      "[2, 2, 2, 2, 2, 2, 2, 2, 2, 2, 2, 2, 2, 2, 2, 2, 2, 2, 2, 2, 2, 2, 2, 2, 2, 2, 2, 2, 2, 2, 2, 2, 2, 2, 2, 2, 2, 2, 2, 2, 2, 2, 2, 2, 2, 3, 5, 11, 21013, 1924920887]\n",
      "[2, 2, 2, 2, 2, 2, 2, 2, 2, 2, 2, 2, 2, 2, 2, 2, 2, 2, 2, 2, 2, 2, 2, 2, 2, 2, 2, 2, 2, 2, 2, 2, 2, 2, 2, 2, 2, 2, 2, 2, 2, 2, 2, 2, 2, 3, 5, 11, 21013, 1924920887]\n",
      "[2, 2, 2, 2, 2, 2, 2, 2, 2, 2, 2, 2, 2, 2, 2, 2, 2, 2, 2, 2, 2, 2, 2, 2, 2, 2, 2, 2, 2, 2, 2, 2, 2, 2, 2, 2, 2, 2, 2, 2, 2, 2, 2, 2, 2, 3, 5, 11, 21013, 1924920887]\n",
      "[2, 2, 2, 2, 2, 2, 2, 2, 2, 2, 2, 2, 2, 2, 2, 2, 2, 2, 2, 2, 2, 2, 2, 2, 2, 2, 2, 2, 2, 2, 2, 2, 2, 2, 2, 2, 2, 2, 2, 2, 2, 2, 2, 2, 2, 3, 5, 11, 21013, 1924920887]\n",
      "[2, 2, 2, 2, 2, 2, 2, 2, 2, 2, 2, 2, 2, 2, 2, 2, 2, 2, 2, 2, 2, 2, 2, 2, 2, 2, 2, 2, 2, 2, 2, 2, 2, 2, 2, 2, 2, 2, 2, 2, 2, 2, 2, 2, 2, 3, 5, 11, 21013, 1924920887]\n",
      "[2, 2, 2, 2, 2, 2, 2, 2, 2, 2, 2, 2, 2, 2, 2, 2, 2, 2, 2, 2, 2, 2, 2, 2, 2, 2, 2, 2, 2, 2, 2, 2, 2, 2, 2, 2, 2, 2, 2, 2, 2, 2, 2, 2, 2, 3, 5, 11, 21013, 1924920887]\n",
      "[2, 2, 2, 2, 2, 2, 2, 2, 2, 2, 2, 2, 2, 2, 2, 2, 2, 2, 2, 2, 2, 2, 2, 2, 2, 2, 2, 2, 2, 2, 2, 2, 2, 2, 2, 2, 2, 2, 2, 2, 2, 2, 2, 2, 2, 3, 5, 11, 21013, 1924920887]\n",
      "[2, 2, 2, 2, 2, 2, 2, 2, 2, 2, 2, 2, 2, 2, 2, 2, 2, 2, 2, 2, 2, 2, 2, 2, 2, 2, 2, 2, 2, 2, 2, 2, 2, 2, 2, 2, 2, 2, 2, 2, 2, 2, 2, 2, 2, 3, 5, 11, 21013, 1924920887]\n",
      "[2, 2, 2, 2, 2, 2, 2, 2, 2, 2, 2, 2, 2, 2, 2, 2, 2, 2, 2, 2, 2, 2, 2, 2, 2, 2, 2, 2, 2, 2, 2, 2, 2, 2, 2, 2, 2, 2, 2, 2, 2, 2, 2, 2, 2, 3, 5, 11, 21013, 1924920887]\n",
      "[2, 2, 2, 2, 2, 2, 2, 2, 2, 2, 2, 2, 2, 2, 2, 2, 2, 2, 2, 2, 2, 2, 2, 2, 2, 2, 2, 2, 2, 2, 2, 2, 2, 2, 2, 2, 2, 2, 2, 2, 2, 2, 2, 2, 2, 3, 5, 11, 21013, 1924920887]\n",
      "[2, 2, 2, 2, 2, 2, 2, 2, 2, 2, 2, 2, 2, 2, 2, 2, 2, 2, 2, 2, 2, 2, 2, 2, 2, 2, 2, 2, 2, 2, 2, 2, 2, 2, 2, 2, 2, 2, 2, 2, 2, 2, 2, 2, 2, 3, 5, 11, 21013, 1924920887]\n",
      "[2, 2, 2, 2, 2, 2, 2, 2, 2, 2, 2, 2, 2, 2, 2, 2, 2, 2, 2, 2, 2, 2, 2, 2, 2, 2, 2, 2, 2, 2, 2, 2, 2, 2, 2, 2, 2, 2, 2, 2, 2, 2, 2, 2, 2, 3, 5, 11, 21013, 1924920887]\n",
      "[2, 2, 2, 2, 2, 2, 2, 2, 2, 2, 2, 2, 2, 2, 2, 2, 2, 2, 2, 2, 2, 2, 2, 2, 2, 2, 2, 2, 2, 2, 2, 2, 2, 2, 2, 2, 2, 2, 2, 2, 2, 2, 2, 2, 2, 3, 5, 11, 21013, 1924920887]\n",
      "[2, 2, 2, 2, 2, 2, 2, 2, 2, 2, 2, 2, 2, 2, 2, 2, 2, 2, 2, 2, 2, 2, 2, 2, 2, 2, 2, 2, 2, 2, 2, 2, 2, 2, 2, 2, 2, 2, 2, 2, 2, 2, 2, 2, 2, 3, 5, 11, 21013, 1924920887]\n",
      "[2, 2, 2, 2, 2, 2, 2, 2, 2, 2, 2, 2, 2, 2, 2, 2, 2, 2, 2, 2, 2, 2, 2, 2, 2, 2, 2, 2, 2, 2, 2, 2, 2, 2, 2, 2, 2, 2, 2, 2, 2, 2, 2, 2, 2, 3, 5, 11, 21013, 1924920887]\n",
      "[2, 2, 2, 2, 2, 2, 2, 2, 2, 2, 2, 2, 2, 2, 2, 2, 2, 2, 2, 2, 2, 2, 2, 2, 2, 2, 2, 2, 2, 2, 2, 2, 2, 2, 2, 2, 2, 2, 2, 2, 2, 2, 2, 2, 2, 3, 5, 11, 21013, 1924920887]\n",
      "[2, 2, 2, 2, 2, 2, 2, 2, 2, 2, 2, 2, 2, 2, 2, 2, 2, 2, 2, 2, 2, 2, 2, 2, 2, 2, 2, 2, 2, 2, 2, 2, 2, 2, 2, 2, 2, 2, 2, 2, 2, 2, 2, 2, 2, 3, 5, 11, 21013, 1924920887]\n",
      "[2, 2, 2, 2, 2, 2, 2, 2, 2, 2, 2, 2, 2, 2, 2, 2, 2, 2, 2, 2, 2, 2, 2, 2, 2, 2, 2, 2, 2, 2, 2, 2, 2, 2, 2, 2, 2, 2, 2, 2, 2, 2, 2, 2, 2, 3, 5, 11, 21013, 1924920887]\n",
      "[2, 2, 2, 2, 2, 2, 2, 2, 2, 2, 2, 2, 2, 2, 2, 2, 2, 2, 2, 2, 2, 2, 2, 2, 2, 2, 2, 2, 2, 2, 2, 2, 2, 2, 2, 2, 2, 2, 2, 2, 2, 2, 2, 2, 2, 3, 5, 11, 21013, 1924920887]\n",
      "[2, 2, 2, 2, 2, 2, 2, 2, 2, 2, 2, 2, 2, 2, 2, 2, 2, 2, 2, 2, 2, 2, 2, 2, 2, 2, 2, 2, 2, 2, 2, 2, 2, 2, 2, 2, 2, 2, 2, 2, 2, 2, 2, 2, 2, 3, 5, 11, 21013, 1924920887]\n",
      "[2, 2, 2, 2, 2, 2, 2, 2, 2, 2, 2, 2, 2, 2, 2, 2, 2, 2, 2, 2, 2, 2, 2, 2, 2, 2, 2, 2, 2, 2, 2, 2, 2, 2, 2, 2, 2, 2, 2, 2, 2, 2, 2, 2, 2, 3, 5, 11, 21013, 1924920887]\n",
      "Wall time: 1min 57s\n"
     ]
    }
   ],
   "source": [
    "%%time\n",
    "import random\n",
    "for i in range(0,30):\n",
    "    n = 234819789608367189120687356429\n",
    "    isPrime = True\n",
    "    g=1\n",
    "    primes = prime_factoriser(n,[])\n",
    "    print(primes)"
   ]
  },
  {
   "cell_type": "code",
   "execution_count": null,
   "id": "13fd6376",
   "metadata": {},
   "outputs": [],
   "source": [
    "2min 2s"
   ]
  }
 ],
 "metadata": {
  "kernelspec": {
   "display_name": "Python 3 (ipykernel)",
   "language": "python",
   "name": "python3"
  },
  "language_info": {
   "codemirror_mode": {
    "name": "ipython",
    "version": 3
   },
   "file_extension": ".py",
   "mimetype": "text/x-python",
   "name": "python",
   "nbconvert_exporter": "python",
   "pygments_lexer": "ipython3",
   "version": "3.9.13"
  }
 },
 "nbformat": 4,
 "nbformat_minor": 5
}
